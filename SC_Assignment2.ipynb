{
  "nbformat": 4,
  "nbformat_minor": 0,
  "metadata": {
    "colab": {
      "name": "SC_Assignment2.ipynb",
      "provenance": [],
      "collapsed_sections": []
    },
    "kernelspec": {
      "name": "python3",
      "display_name": "Python 3"
    },
    "language_info": {
      "name": "python"
    }
  },
  "cells": [
    {
      "cell_type": "markdown",
      "source": [
        "# Importing\n"
      ],
      "metadata": {
        "id": "lwzAS5p4xu9D"
      }
    },
    {
      "cell_type": "code",
      "execution_count": 31,
      "metadata": {
        "id": "pICgzsnx-Rxm"
      },
      "outputs": [],
      "source": [
        "import pandas as pd\n",
        "import numpy as np\n",
        "import matplotlib.pyplot as plt\n",
        "%matplotlib inline\n",
        "import tensorflow as tf\n",
        "from tensorflow import keras\n",
        "import seaborn as sn\n",
        "from sklearn.model_selection import train_test_split"
      ]
    },
    {
      "cell_type": "markdown",
      "source": [
        "# Mounting"
      ],
      "metadata": {
        "id": "RJzdOq8NynWc"
      }
    },
    {
      "cell_type": "code",
      "source": [
        "from google.colab import drive\n",
        "drive.mount('/content/drive')"
      ],
      "metadata": {
        "colab": {
          "base_uri": "https://localhost:8080/"
        },
        "id": "bN2quXfNyq32",
        "outputId": "34efc1bb-dcbd-4e69-923b-f67d34aa0f77"
      },
      "execution_count": 32,
      "outputs": [
        {
          "output_type": "stream",
          "name": "stdout",
          "text": [
            "Drive already mounted at /content/drive; to attempt to forcibly remount, call drive.mount(\"/content/drive\", force_remount=True).\n"
          ]
        }
      ]
    },
    {
      "cell_type": "markdown",
      "source": [
        "# Read dataset"
      ],
      "metadata": {
        "id": "LMfjkgTWywyc"
      }
    },
    {
      "cell_type": "code",
      "source": [
        "url = '/content/drive/My Drive/Colab Notebooks/datasets/text_dataset.csv'"
      ],
      "metadata": {
        "id": "6vgHKbbbyyv7"
      },
      "execution_count": 33,
      "outputs": []
    },
    {
      "cell_type": "code",
      "source": [
        "df = pd.read_csv(url)\n",
        "df.head()"
      ],
      "metadata": {
        "colab": {
          "base_uri": "https://localhost:8080/",
          "height": 206
        },
        "id": "N_YzQmgEyzz6",
        "outputId": "443db406-c594-46dc-e1ec-cc1ab6e16092"
      },
      "execution_count": 34,
      "outputs": [
        {
          "output_type": "execute_result",
          "data": {
            "text/html": [
              "\n",
              "  <div id=\"df-f40407e1-e342-4b90-95ae-2b8ffae47090\">\n",
              "    <div class=\"colab-df-container\">\n",
              "      <div>\n",
              "<style scoped>\n",
              "    .dataframe tbody tr th:only-of-type {\n",
              "        vertical-align: middle;\n",
              "    }\n",
              "\n",
              "    .dataframe tbody tr th {\n",
              "        vertical-align: top;\n",
              "    }\n",
              "\n",
              "    .dataframe thead th {\n",
              "        text-align: right;\n",
              "    }\n",
              "</style>\n",
              "<table border=\"1\" class=\"dataframe\">\n",
              "  <thead>\n",
              "    <tr style=\"text-align: right;\">\n",
              "      <th></th>\n",
              "      <th>Text</th>\n",
              "      <th>Sentiment</th>\n",
              "    </tr>\n",
              "  </thead>\n",
              "  <tbody>\n",
              "    <tr>\n",
              "      <th>0</th>\n",
              "      <td>Kickers on my watchlist XIDE TIT SOQ PNK CPW B...</td>\n",
              "      <td>1</td>\n",
              "    </tr>\n",
              "    <tr>\n",
              "      <th>1</th>\n",
              "      <td>user: AAP MOVIE. 55% return for the FEA/GEED i...</td>\n",
              "      <td>1</td>\n",
              "    </tr>\n",
              "    <tr>\n",
              "      <th>2</th>\n",
              "      <td>user I'd be afraid to short AMZN - they are lo...</td>\n",
              "      <td>1</td>\n",
              "    </tr>\n",
              "    <tr>\n",
              "      <th>3</th>\n",
              "      <td>MNTA Over 12.00</td>\n",
              "      <td>1</td>\n",
              "    </tr>\n",
              "    <tr>\n",
              "      <th>4</th>\n",
              "      <td>OI  Over 21.37</td>\n",
              "      <td>1</td>\n",
              "    </tr>\n",
              "  </tbody>\n",
              "</table>\n",
              "</div>\n",
              "      <button class=\"colab-df-convert\" onclick=\"convertToInteractive('df-f40407e1-e342-4b90-95ae-2b8ffae47090')\"\n",
              "              title=\"Convert this dataframe to an interactive table.\"\n",
              "              style=\"display:none;\">\n",
              "        \n",
              "  <svg xmlns=\"http://www.w3.org/2000/svg\" height=\"24px\"viewBox=\"0 0 24 24\"\n",
              "       width=\"24px\">\n",
              "    <path d=\"M0 0h24v24H0V0z\" fill=\"none\"/>\n",
              "    <path d=\"M18.56 5.44l.94 2.06.94-2.06 2.06-.94-2.06-.94-.94-2.06-.94 2.06-2.06.94zm-11 1L8.5 8.5l.94-2.06 2.06-.94-2.06-.94L8.5 2.5l-.94 2.06-2.06.94zm10 10l.94 2.06.94-2.06 2.06-.94-2.06-.94-.94-2.06-.94 2.06-2.06.94z\"/><path d=\"M17.41 7.96l-1.37-1.37c-.4-.4-.92-.59-1.43-.59-.52 0-1.04.2-1.43.59L10.3 9.45l-7.72 7.72c-.78.78-.78 2.05 0 2.83L4 21.41c.39.39.9.59 1.41.59.51 0 1.02-.2 1.41-.59l7.78-7.78 2.81-2.81c.8-.78.8-2.07 0-2.86zM5.41 20L4 18.59l7.72-7.72 1.47 1.35L5.41 20z\"/>\n",
              "  </svg>\n",
              "      </button>\n",
              "      \n",
              "  <style>\n",
              "    .colab-df-container {\n",
              "      display:flex;\n",
              "      flex-wrap:wrap;\n",
              "      gap: 12px;\n",
              "    }\n",
              "\n",
              "    .colab-df-convert {\n",
              "      background-color: #E8F0FE;\n",
              "      border: none;\n",
              "      border-radius: 50%;\n",
              "      cursor: pointer;\n",
              "      display: none;\n",
              "      fill: #1967D2;\n",
              "      height: 32px;\n",
              "      padding: 0 0 0 0;\n",
              "      width: 32px;\n",
              "    }\n",
              "\n",
              "    .colab-df-convert:hover {\n",
              "      background-color: #E2EBFA;\n",
              "      box-shadow: 0px 1px 2px rgba(60, 64, 67, 0.3), 0px 1px 3px 1px rgba(60, 64, 67, 0.15);\n",
              "      fill: #174EA6;\n",
              "    }\n",
              "\n",
              "    [theme=dark] .colab-df-convert {\n",
              "      background-color: #3B4455;\n",
              "      fill: #D2E3FC;\n",
              "    }\n",
              "\n",
              "    [theme=dark] .colab-df-convert:hover {\n",
              "      background-color: #434B5C;\n",
              "      box-shadow: 0px 1px 3px 1px rgba(0, 0, 0, 0.15);\n",
              "      filter: drop-shadow(0px 1px 2px rgba(0, 0, 0, 0.3));\n",
              "      fill: #FFFFFF;\n",
              "    }\n",
              "  </style>\n",
              "\n",
              "      <script>\n",
              "        const buttonEl =\n",
              "          document.querySelector('#df-f40407e1-e342-4b90-95ae-2b8ffae47090 button.colab-df-convert');\n",
              "        buttonEl.style.display =\n",
              "          google.colab.kernel.accessAllowed ? 'block' : 'none';\n",
              "\n",
              "        async function convertToInteractive(key) {\n",
              "          const element = document.querySelector('#df-f40407e1-e342-4b90-95ae-2b8ffae47090');\n",
              "          const dataTable =\n",
              "            await google.colab.kernel.invokeFunction('convertToInteractive',\n",
              "                                                     [key], {});\n",
              "          if (!dataTable) return;\n",
              "\n",
              "          const docLinkHtml = 'Like what you see? Visit the ' +\n",
              "            '<a target=\"_blank\" href=https://colab.research.google.com/notebooks/data_table.ipynb>data table notebook</a>'\n",
              "            + ' to learn more about interactive tables.';\n",
              "          element.innerHTML = '';\n",
              "          dataTable['output_type'] = 'display_data';\n",
              "          await google.colab.output.renderOutput(dataTable, element);\n",
              "          const docLink = document.createElement('div');\n",
              "          docLink.innerHTML = docLinkHtml;\n",
              "          element.appendChild(docLink);\n",
              "        }\n",
              "      </script>\n",
              "    </div>\n",
              "  </div>\n",
              "  "
            ],
            "text/plain": [
              "                                                Text  Sentiment\n",
              "0  Kickers on my watchlist XIDE TIT SOQ PNK CPW B...          1\n",
              "1  user: AAP MOVIE. 55% return for the FEA/GEED i...          1\n",
              "2  user I'd be afraid to short AMZN - they are lo...          1\n",
              "3                                  MNTA Over 12.00            1\n",
              "4                                   OI  Over 21.37            1"
            ]
          },
          "metadata": {},
          "execution_count": 34
        }
      ]
    },
    {
      "cell_type": "code",
      "source": [
        "texts = df['Text']\n",
        "sentiments = df['Sentiment']\n",
        "print(texts.head())\n",
        "print(sentiments.head())"
      ],
      "metadata": {
        "colab": {
          "base_uri": "https://localhost:8080/"
        },
        "id": "fxv2DNkfrdEI",
        "outputId": "412a319f-a07a-4fd5-b59a-c8e625cd013d"
      },
      "execution_count": 35,
      "outputs": [
        {
          "output_type": "stream",
          "name": "stdout",
          "text": [
            "0    Kickers on my watchlist XIDE TIT SOQ PNK CPW B...\n",
            "1    user: AAP MOVIE. 55% return for the FEA/GEED i...\n",
            "2    user I'd be afraid to short AMZN - they are lo...\n",
            "3                                    MNTA Over 12.00  \n",
            "4                                     OI  Over 21.37  \n",
            "Name: Text, dtype: object\n",
            "0    1\n",
            "1    1\n",
            "2    1\n",
            "3    1\n",
            "4    1\n",
            "Name: Sentiment, dtype: int64\n"
          ]
        }
      ]
    },
    {
      "cell_type": "code",
      "source": [
        "sentiments = np.array(sentiments)\n",
        "sentiments[sentiments < 0] = 0"
      ],
      "metadata": {
        "id": "nC0fzebvT4gA"
      },
      "execution_count": 36,
      "outputs": []
    },
    {
      "cell_type": "markdown",
      "source": [
        "# Pre-processing"
      ],
      "metadata": {
        "id": "iTuYX3UCzMRG"
      }
    },
    {
      "cell_type": "code",
      "source": [
        "import nltk\n",
        "from nltk import corpus\n",
        "\n",
        "nltk.download('stopwords')\n",
        "nltk.download('punkt')\n",
        "\n",
        "from nltk.corpus import stopwords\n",
        "from nltk.tokenize import word_tokenize\n",
        "from nltk.stem import PorterStemmer\n",
        " \n",
        "stop_words = set(stopwords.words('english'))\n",
        "ps = PorterStemmer()\n",
        "\n",
        "word_tokens = []\n",
        "\n",
        "for i in texts:\n",
        "  word_tokens.append(word_tokenize(i))\n",
        "\n",
        "# stopwords filtering\n",
        "stopwords_filtered_texts = []\n",
        "for t in word_tokens:\n",
        "    filtered_sentence = []\n",
        "    for w in t:\n",
        "      if w not in stop_words:\n",
        "        filtered_sentence.append(w)\n",
        "    stopwords_filtered_texts.append(filtered_sentence)\n",
        "\n",
        "print(word_tokens[2])\n",
        "print(stopwords_filtered_texts[2])\n",
        "\n",
        "# stemming\n",
        "stemmed_texts = []\n",
        "for t in stopwords_filtered_texts:\n",
        "  filtered_sent = []\n",
        "  for w in t:\n",
        "    filtered_sent.append(ps.stem(w))\n",
        "  stemmed_texts.append(filtered_sent)\n",
        "\n",
        "print(stemmed_texts[2])"
      ],
      "metadata": {
        "colab": {
          "base_uri": "https://localhost:8080/"
        },
        "id": "CfO2l7tBzOR4",
        "outputId": "6b176a98-92b2-4a58-adfc-5934aaa5ac5f"
      },
      "execution_count": 37,
      "outputs": [
        {
          "output_type": "stream",
          "name": "stdout",
          "text": [
            "[nltk_data] Downloading package stopwords to /root/nltk_data...\n",
            "[nltk_data]   Package stopwords is already up-to-date!\n",
            "[nltk_data] Downloading package punkt to /root/nltk_data...\n",
            "[nltk_data]   Package punkt is already up-to-date!\n",
            "['user', 'I', \"'d\", 'be', 'afraid', 'to', 'short', 'AMZN', '-', 'they', 'are', 'looking', 'like', 'a', 'near-monopoly', 'in', 'eBooks', 'and', 'infrastructure-as-a-service']\n",
            "['user', 'I', \"'d\", 'afraid', 'short', 'AMZN', '-', 'looking', 'like', 'near-monopoly', 'eBooks', 'infrastructure-as-a-service']\n",
            "['user', 'I', \"'d\", 'afraid', 'short', 'amzn', '-', 'look', 'like', 'near-monopoli', 'ebook', 'infrastructure-as-a-servic']\n"
          ]
        }
      ]
    },
    {
      "cell_type": "markdown",
      "source": [
        "# BoW (Neural Network)"
      ],
      "metadata": {
        "id": "WsqjTxJ4yFTz"
      }
    },
    {
      "cell_type": "code",
      "source": [
        "import heapq\n",
        "\n",
        "word_count = {}\n",
        "for t in stemmed_texts:\n",
        "  for w in t:\n",
        "    if w not in word_count.keys():\n",
        "      word_count[w] = 1\n",
        "    else:\n",
        "      word_count[w] += 1\n",
        "len(word_count)\n",
        "\n",
        "freq_words = heapq.nlargest(100, word_count, key=word_count.get)  # first parameter holo amra koto word chai\n",
        "freq_words[:4]\n",
        "\n",
        "BoW = []\n",
        "for t in stemmed_texts:\n",
        "    vector = []\n",
        "    for w in freq_words:\n",
        "        if w in t:\n",
        "            vector.append(1)\n",
        "        else:\n",
        "            vector.append(0)\n",
        "    BoW.append(vector)\n",
        "BoW = np.asarray(BoW)\n",
        "print(BoW[:2])\n"
      ],
      "metadata": {
        "colab": {
          "base_uri": "https://localhost:8080/"
        },
        "id": "kS2_lMjZyDLy",
        "outputId": "8722aa68-c97a-4b3f-bf3e-a5a446c7ec2a"
      },
      "execution_count": 38,
      "outputs": [
        {
          "output_type": "stream",
          "name": "stdout",
          "text": [
            "[[0 1 0 0 0 0 0 0 0 0 0 0 0 0 0 0 0 0 0 0 0 0 0 0 0 0 0 0 0 0 1 0 0 0 0 0\n",
            "  0 0 0 0 0 0 0 0 1 0 0 0 0 0 0 0 0 0 0 0 0 0 0 0 0 0 0 0 0 0 0 0 0 0 0 0\n",
            "  0 0 0 0 0 0 0 0 0 0 0 0 0 0 0 0 0 0 0 0 0 0 0 0 0 0 0 0]\n",
            " [1 0 1 1 0 0 0 1 0 0 1 0 0 0 0 0 0 0 0 0 0 0 0 0 0 0 0 0 0 0 1 0 0 0 0 0\n",
            "  0 0 0 0 0 0 0 0 0 0 0 0 0 0 0 0 0 0 0 0 0 0 0 0 0 0 0 0 0 0 0 0 0 0 0 0\n",
            "  0 0 0 0 1 0 0 0 0 0 0 0 0 0 0 0 0 0 0 0 0 0 0 0 0 0 0 0]]\n"
          ]
        }
      ]
    },
    {
      "cell_type": "code",
      "source": [
        "x_train, x_test, y_train, y_test = train_test_split(BoW, sentiments, test_size=0.2, random_state=39)\n",
        "print(x_train.shape)\n",
        "print(x_test.shape)\n",
        "print(y_train.shape)\n"
      ],
      "metadata": {
        "colab": {
          "base_uri": "https://localhost:8080/"
        },
        "id": "01v9vAWcUH8f",
        "outputId": "cb611b16-86d3-4e18-c766-0e64504bb2e3"
      },
      "execution_count": 39,
      "outputs": [
        {
          "output_type": "stream",
          "name": "stdout",
          "text": [
            "(4632, 100)\n",
            "(1159, 100)\n",
            "(4632,)\n"
          ]
        }
      ]
    },
    {
      "cell_type": "code",
      "source": [
        "nn = keras.Sequential([\n",
        "    keras.layers.Flatten(input_shape=(100, )),\n",
        "    keras.layers.Dense(500, activation='relu'),\n",
        "    keras.layers.Dense(100, activation='relu'),\n",
        "    keras.layers.Dense(100, activation='relu'),\n",
        "    keras.layers.Dense(2, activation='softmax')\n",
        "])\n",
        "\n",
        "adam = keras.optimizers.Adam(learning_rate=0.01)\n",
        "nn.compile(\n",
        "    optimizer=adam,\n",
        "    loss='sparse_categorical_crossentropy',\n",
        "    metrics=['accuracy']\n",
        ")\n",
        "\n",
        "nn_history = nn.fit(x_train, y_train, epochs=10, batch_size=39)"
      ],
      "metadata": {
        "colab": {
          "base_uri": "https://localhost:8080/"
        },
        "id": "c7CdLenwU6a5",
        "outputId": "44cf7eec-ee13-4936-84a2-dee64e4158aa"
      },
      "execution_count": 44,
      "outputs": [
        {
          "output_type": "stream",
          "name": "stdout",
          "text": [
            "Epoch 1/10\n",
            "119/119 [==============================] - 1s 6ms/step - loss: 0.5770 - accuracy: 0.7032\n",
            "Epoch 2/10\n",
            "119/119 [==============================] - 1s 5ms/step - loss: 0.5177 - accuracy: 0.7411\n",
            "Epoch 3/10\n",
            "119/119 [==============================] - 1s 4ms/step - loss: 0.4781 - accuracy: 0.7591\n",
            "Epoch 4/10\n",
            "119/119 [==============================] - 1s 6ms/step - loss: 0.4372 - accuracy: 0.7843\n",
            "Epoch 5/10\n",
            "119/119 [==============================] - 1s 5ms/step - loss: 0.3816 - accuracy: 0.8083\n",
            "Epoch 6/10\n",
            "119/119 [==============================] - 1s 5ms/step - loss: 0.3299 - accuracy: 0.8351\n",
            "Epoch 7/10\n",
            "119/119 [==============================] - 1s 5ms/step - loss: 0.2962 - accuracy: 0.8586\n",
            "Epoch 8/10\n",
            "119/119 [==============================] - 0s 3ms/step - loss: 0.2666 - accuracy: 0.8713\n",
            "Epoch 9/10\n",
            "119/119 [==============================] - 0s 3ms/step - loss: 0.2556 - accuracy: 0.8845\n",
            "Epoch 10/10\n",
            "119/119 [==============================] - 0s 3ms/step - loss: 0.2411 - accuracy: 0.8880\n"
          ]
        }
      ]
    },
    {
      "cell_type": "code",
      "source": [
        "plt.plot(nn_history.history['loss'])\n",
        "plt.title('Loss VS Epoch')\n",
        "plt.ylabel('Sparse Categorical Crossentropy Value')\n",
        "plt.xlabel('No. Epoch')\n",
        "plt.show()"
      ],
      "metadata": {
        "colab": {
          "base_uri": "https://localhost:8080/",
          "height": 295
        },
        "id": "Q1OwkELU-IJz",
        "outputId": "5d79af12-7697-4ab6-a5a6-a9b0f8d54b07"
      },
      "execution_count": 45,
      "outputs": [
        {
          "output_type": "display_data",
          "data": {
            "image/png": "[encoded data removed]",
            "text/plain": [
              "<Figure size 432x288 with 1 Axes>"
            ]
          },
          "metadata": {
            "needs_background": "light"
          }
        }
      ]
    },
    {
      "cell_type": "code",
      "source": [
        "nn.evaluate(x_test, y_test)"
      ],
      "metadata": {
        "colab": {
          "base_uri": "https://localhost:8080/"
        },
        "id": "0T9Cwa4mcSjx",
        "outputId": "62f40a32-6c7f-4189-ae7a-e6f1da1b2fc4"
      },
      "execution_count": 47,
      "outputs": [
        {
          "output_type": "stream",
          "name": "stdout",
          "text": [
            "37/37 [==============================] - 0s 2ms/step - loss: 0.9210 - accuracy: 0.7118\n"
          ]
        },
        {
          "output_type": "execute_result",
          "data": {
            "text/plain": [
              "[0.9209537506103516, 0.7118205428123474]"
            ]
          },
          "metadata": {},
          "execution_count": 47
        }
      ]
    },
    {
      "cell_type": "code",
      "source": [
        "from sklearn import metrics\n",
        "y_predict = nn.predict(x_test)\n",
        "y_predict_labels = [np.argmax(i) for i in y_predict]\n",
        "y_predict_labels[:5]\n",
        "\n",
        "print(metrics.classification_report(y_test, y_predict_labels))\n",
        "print ('Accuracy: ', metrics.accuracy_score(y_test, y_predict_labels))\n",
        "print ('Precision: ', metrics.precision_score(y_test, y_predict_labels, average='macro'))\n",
        "print ('Recall: ', metrics.recall_score(y_test, y_predict_labels, average='macro'))\n",
        "print ('F1-score: ', metrics.f1_score(y_test, y_predict_labels, average='macro'))"
      ],
      "metadata": {
        "colab": {
          "base_uri": "https://localhost:8080/"
        },
        "id": "kqfHe5GKcpgT",
        "outputId": "42a6508a-66d4-4a2e-a37d-2a921a8a5212"
      },
      "execution_count": 50,
      "outputs": [
        {
          "output_type": "stream",
          "name": "stdout",
          "text": [
            "              precision    recall  f1-score   support\n",
            "\n",
            "           0       0.65      0.46      0.54       427\n",
            "           1       0.73      0.86      0.79       732\n",
            "\n",
            "    accuracy                           0.71      1159\n",
            "   macro avg       0.69      0.66      0.67      1159\n",
            "weighted avg       0.70      0.71      0.70      1159\n",
            "\n",
            "Accuracy:  0.7118205349439172\n",
            "Precision:  0.6932098908843094\n",
            "Recall:  0.6596409055425448\n",
            "F1-score:  0.665572949063515\n"
          ]
        }
      ]
    },
    {
      "cell_type": "markdown",
      "source": [
        "# TF-IDF (Neural Network)"
      ],
      "metadata": {
        "id": "NZXr9dpByQVy"
      }
    },
    {
      "cell_type": "code",
      "source": [
        "from sklearn.feature_extraction.text import TfidfVectorizer\n",
        "\n",
        "# tfidf = TfidfVectorizer(stemmed_texts[])\n"
      ],
      "metadata": {
        "colab": {
          "base_uri": "https://localhost:8080/"
        },
        "id": "g7wmru0FyP3I",
        "outputId": "9682f765-0962-4ef8-d1c6-a92ca6be19fc"
      },
      "execution_count": 15,
      "outputs": [
        {
          "output_type": "stream",
          "name": "stderr",
          "text": [
            "/usr/local/lib/python3.7/dist-packages/numpy/core/fromnumeric.py:43: VisibleDeprecationWarning: Creating an ndarray from ragged nested sequences (which is a list-or-tuple of lists-or-tuples-or ndarrays with different lengths or shapes) is deprecated. If you meant to do this, you must specify 'dtype=object' when creating the ndarray.\n",
            "  result = getattr(asarray(obj), method)(*args, **kwds)\n"
          ]
        },
        {
          "output_type": "execute_result",
          "data": {
            "text/plain": [
              "array([[list(['kicker', 'watchlist', 'xide', 'tit', 'soq', 'pnk', 'cpw', 'bpz', 'AJ', 'trade', 'method', '1', 'method', '2', ',', 'see', 'prev', 'post']),\n",
              "        list(['user', ':', 'aap', 'movi', '.', '55', '%', 'return', 'fea/ge', 'indic', '15', 'trade', 'year', '.', 'awesom', '.']),\n",
              "        list(['user', 'I', \"'d\", 'afraid', 'short', 'amzn', '-', 'look', 'like', 'near-monopoli', 'ebook', 'infrastructure-as-a-servic']),\n",
              "        ...,\n",
              "        list(['worker', 'bajaj', 'auto', 'agre', '10', '%', 'wage', 'cut', 'period', 'april', '15', 'till', 'lockdown', 'lift', '.', 'http', ':', '//t.co/rgvrkplind']),\n",
              "        list(['#', 'sharemarket', 'live', ':', 'sensex', 'day', '’', 'high', ',', '600', 'point', ',', '#', 'nifti', 'test', '9,200', ',', '#', 'tc', ',', 'privat', 'bank', 'stock', 'lead', 'http', ':', '//t.co/3xgtlrokui']),\n",
              "        list(['#', 'sensex', ',', '#', 'nifti', 'climb', 'day', \"'s\", 'high', ',', 'still', '2', '%', ';', 'key', 'factor', 'drive', 'd-street', 'higher', 'today', 'http', ':', '//t.co/jvqcousfp6'])]],\n",
              "      dtype=object)"
            ]
          },
          "metadata": {},
          "execution_count": 15
        }
      ]
    },
    {
      "cell_type": "markdown",
      "source": [
        "# One-Hot Embedding (CNN)"
      ],
      "metadata": {
        "id": "i69rNJK1yZL7"
      }
    },
    {
      "cell_type": "code",
      "source": [
        "from sklearn.preprocessing import LabelEncoder\n",
        "from sklearn.preprocessing import OneHotEncoder\n",
        "\n"
      ],
      "metadata": {
        "colab": {
          "base_uri": "https://localhost:8080/"
        },
        "id": "KUtfpefdyW2s",
        "outputId": "2ac3bfa8-8f8e-40a8-9265-7044783168be"
      },
      "execution_count": 22,
      "outputs": [
        {
          "output_type": "stream",
          "name": "stderr",
          "text": [
            "/usr/local/lib/python3.7/dist-packages/ipykernel_launcher.py:4: VisibleDeprecationWarning: Creating an ndarray from ragged nested sequences (which is a list-or-tuple of lists-or-tuples-or ndarrays with different lengths or shapes) is deprecated. If you meant to do this, you must specify 'dtype=object' when creating the ndarray.\n",
            "  after removing the cwd from sys.path.\n"
          ]
        },
        {
          "output_type": "execute_result",
          "data": {
            "text/plain": [
              "array([array(['kicker', 'watchlist', 'xide', 'tit', 'soq', 'pnk', 'cpw', 'bpz',\n",
              "              'AJ', 'trade', 'method', '1', 'method', '2', ',', 'see', 'prev',\n",
              "              'post'], dtype='<U9')                                            ,\n",
              "       array(['user', ':', 'aap', 'movi', '.', '55', '%', 'return', 'fea/ge',\n",
              "              'indic', '15', 'trade', 'year', '.', 'awesom', '.'], dtype='<U6'),\n",
              "       array(['user', 'I', \"'d\", 'afraid', 'short', 'amzn', '-', 'look', 'like',\n",
              "              'near-monopoli', 'ebook', 'infrastructure-as-a-servic'],\n",
              "             dtype='<U26')                                                      ,\n",
              "       ...,\n",
              "       array(['worker', 'bajaj', 'auto', 'agre', '10', '%', 'wage', 'cut',\n",
              "              'period', 'april', '15', 'till', 'lockdown', 'lift', '.', 'http',\n",
              "              ':', '//t.co/rgvrkplind'], dtype='<U17')                         ,\n",
              "       array(['#', 'sharemarket', 'live', ':', 'sensex', 'day', '’', 'high', ',',\n",
              "              '600', 'point', ',', '#', 'nifti', 'test', '9,200', ',', '#', 'tc',\n",
              "              ',', 'privat', 'bank', 'stock', 'lead', 'http', ':',\n",
              "              '//t.co/3xgtlrokui'], dtype='<U17')                                ,\n",
              "       array(['#', 'sensex', ',', '#', 'nifti', 'climb', 'day', \"'s\", 'high',\n",
              "              ',', 'still', '2', '%', ';', 'key', 'factor', 'drive', 'd-street',\n",
              "              'higher', 'today', 'http', ':', '//t.co/jvqcousfp6'], dtype='<U17')],\n",
              "      dtype=object)"
            ]
          },
          "metadata": {},
          "execution_count": 22
        }
      ]
    }
  ]
}